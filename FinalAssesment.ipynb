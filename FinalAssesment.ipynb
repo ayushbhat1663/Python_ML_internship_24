{
 "cells": [
  {
   "cell_type": "markdown",
   "id": "dfbb3f3c-b27f-458d-b5ed-8ea422236047",
   "metadata": {},
   "source": [
    "## Table of Contents\n",
    "- [Importing Libraries](#Importing-libraries)\n",
    "- [Load the dataset](#Load-the-dataset)\n",
    "- [Reading CSV File](#Reading-CSV-File)\n",
    "- [Display the first few rows](#Display-the-first-few-rows)\n",
    "- [Show Top 5 Records](#Show-Top-5-Records)\n",
    "- [Finding minimum values](#Find-minimum-values)\n",
    "- [Finding maximum values](#Find-maximum-values)\n",
    "- [Shape of the dataset](#Shape-of-the-dataset)\n",
    "- [Checking for missing values](#Checking-for-missing-values)\n",
    "- [Checking for Duplicate values](#Checking-duplicates)\n",
    "- [Checking the number of unique values of each column](#Checking-the-number-of-unique-values-of-each-column)\n",
    "- [Check data types](#Check-data-types)\n",
    "- [Exploring Data](#Exploring-Data)\n",
    "- [Check statistics of data set](#Check-statistics-of-data-set)\n",
    "- [Finding categories in every Filed](#Finding-categories-in-every-Filed)\n",
    "- [Define numerical & categorical columns](#Define-numerical-&-categorical-columns)\n",
    "- [Printing the total numerical & categorical features](#Printing-the-total-numerical-&-categorical-features)\n",
    "- [checking head](#checking-head)\n",
    "- [Comparison of Pclass vs Sex](#Comparison-of-Pclass-vs-Sex)\n",
    "- [Create a count plot with custom colors](#Create-a-count-plot-with-custom-colors)\n",
    "- [Testing The Actual Data In Graph Of Age vs Fair](#Testing-The-Actual-Data-In-Graph-Of-Age-vs-Fair)\n",
    "- [Average Fare by Passenger Class](#Average-Fare-by-Passenger-Class)\n",
    "- [Age vs Fare with Linear Regression](#Age-vs-Fare-with-Linear-Regression)\n",
    "- [All Three Different Graphs for All Mens,Women,Childrens](#All-Three-Different-Graphs-for-All-Mens,Women,Childrens)\n",
    "- [Data Preparation and Conversion for sibso vs who](#Data-Preparation-and-Conversion)\n",
    "- [Sibsp VS Who](#Sibsp-VS-Who)\n",
    "- [Creating a 3D Plot](#Creating-a-3D-Plot)\n",
    "- [Sibsp VS Who In 3D](#Sibsp-VS-Who-In-3D)\n",
    "- [Age vs Fare vs Who: 3D Visualization](#Age-vs-Fare-vs-Who:-3D-Visualization)"
   ]
  },
  {
   "cell_type": "markdown",
   "id": "e8f9c06c-6329-4140-ad33-1058c4fbb73d",
   "metadata": {},
   "source": [
    "## Importing libraries"
   ]
  },
  {
   "cell_type": "code",
   "execution_count": 95,
   "id": "c953f18d-3c9b-4168-b209-7beff20fde27",
   "metadata": {},
   "outputs": [],
   "source": [
    "import numpy as np\n",
    "import pandas as pd\n",
    "import seaborn as sns\n",
    "import matplotlib.pyplot as plt\n",
    "%matplotlib inline\n",
    "import warnings\n",
    "warnings.filterwarnings('ignore')\n",
    "from sklearn.linear_model import LinearRegression, LogisticRegression\n",
    "from sklearn.neighbors import KNeighborsClassifier\n",
    "from sklearn.tree import DecisionTreeClassifier\n",
    "import plotly.graph_objs as go"
   ]
  },
  {
   "cell_type": "markdown",
   "id": "2c3d13dc-a16f-4a67-a574-8e2f2f7515e5",
   "metadata": {},
   "source": [
    "**NumPy:** Essential for numerical operations, particularly arrays\n"
   ]
  },
  {
   "cell_type": "markdown",
   "id": "1750956e-6e5a-43de-8578-3e339716e72b",
   "metadata": {},
   "source": [
    "**Pandas:** Used for data manipulation and analysis"
   ]
  },
  {
   "cell_type": "markdown",
   "id": "df930498-7c30-4745-883c-266421dc818a",
   "metadata": {},
   "source": [
    "**Seaborn:** For enhanced data visualization, built on top of Matplotlib"
   ]
  },
  {
   "cell_type": "markdown",
   "id": "10d6f19b-2a63-4878-9278-14b6b2c6ca09",
   "metadata": {},
   "source": [
    "**Matplotlib:** The core plotting library in Python"
   ]
  },
  {
   "cell_type": "markdown",
   "id": "cc97892d-bca7-46ea-b1d6-47e2c0b138d7",
   "metadata": {},
   "source": [
    "**Warnings Filter:** Suppresses unwanted warnings during execution"
   ]
  },
  {
   "cell_type": "markdown",
   "id": "d8b26bd8-8bf2-4440-b834-8f7ae6555fae",
   "metadata": {},
   "source": [
    "**Linear Regression & Logistic Regression:** Core machine learning algorithms for regression and classification tasks"
   ]
  },
  {
   "cell_type": "markdown",
   "id": "b61cedb6-2911-4025-bfc8-2101f95e00ec",
   "metadata": {},
   "source": [
    "**Decision Tree:** A versatile machine learning model that can be used for both classification and regression tasks"
   ]
  },
  {
   "cell_type": "markdown",
   "id": "1f1074f8-a8ba-48b6-8587-5e493c296a3f",
   "metadata": {},
   "source": [
    "## Load the dataset"
   ]
  },
  {
   "cell_type": "code",
   "execution_count": 96,
   "id": "21ef5414-1bb7-4e80-b798-34e3bcb7d7c6",
   "metadata": {},
   "outputs": [],
   "source": [
    "titanic_data = pd.read_csv('titanic.csv')"
   ]
  },
  {
   "cell_type": "markdown",
   "id": "6b99d87a-10b1-4287-8414-5cb0213ccbcd",
   "metadata": {},
   "source": [
    "## Reading CSV File"
   ]
  },
  {
   "cell_type": "code",
   "execution_count": 97,
   "id": "a1e4e637-dc24-4a2c-83ca-b96ffb465118",
   "metadata": {},
   "outputs": [],
   "source": [
    "df = pd.read_csv('titanic.csv')"
   ]
  },
  {
   "cell_type": "markdown",
   "id": "c038a549-39d2-4620-b999-46ce322fa4f8",
   "metadata": {},
   "source": [
    "## Show Top 5 Records"
   ]
  },
  {
   "cell_type": "code",
   "execution_count": 98,
   "id": "c5a00c7e-505a-4ba7-9caa-383616a6c329",
   "metadata": {},
   "outputs": [
    {
     "data": {
      "text/html": [
       "<div>\n",
       "<style scoped>\n",
       "    .dataframe tbody tr th:only-of-type {\n",
       "        vertical-align: middle;\n",
       "    }\n",
       "\n",
       "    .dataframe tbody tr th {\n",
       "        vertical-align: top;\n",
       "    }\n",
       "\n",
       "    .dataframe thead th {\n",
       "        text-align: right;\n",
       "    }\n",
       "</style>\n",
       "<table border=\"1\" class=\"dataframe\">\n",
       "  <thead>\n",
       "    <tr style=\"text-align: right;\">\n",
       "      <th></th>\n",
       "      <th>survived</th>\n",
       "      <th>pclass</th>\n",
       "      <th>sex</th>\n",
       "      <th>age</th>\n",
       "      <th>sibsp</th>\n",
       "      <th>parch</th>\n",
       "      <th>fare</th>\n",
       "      <th>embarked</th>\n",
       "      <th>class</th>\n",
       "      <th>who</th>\n",
       "      <th>adult_male</th>\n",
       "      <th>deck</th>\n",
       "      <th>embark_town</th>\n",
       "      <th>alive</th>\n",
       "      <th>alone</th>\n",
       "    </tr>\n",
       "  </thead>\n",
       "  <tbody>\n",
       "    <tr>\n",
       "      <th>0</th>\n",
       "      <td>0</td>\n",
       "      <td>3</td>\n",
       "      <td>male</td>\n",
       "      <td>22.0</td>\n",
       "      <td>1</td>\n",
       "      <td>0</td>\n",
       "      <td>7.2500</td>\n",
       "      <td>S</td>\n",
       "      <td>Third</td>\n",
       "      <td>man</td>\n",
       "      <td>True</td>\n",
       "      <td>NaN</td>\n",
       "      <td>Southampton</td>\n",
       "      <td>no</td>\n",
       "      <td>False</td>\n",
       "    </tr>\n",
       "    <tr>\n",
       "      <th>1</th>\n",
       "      <td>1</td>\n",
       "      <td>1</td>\n",
       "      <td>female</td>\n",
       "      <td>38.0</td>\n",
       "      <td>1</td>\n",
       "      <td>0</td>\n",
       "      <td>71.2833</td>\n",
       "      <td>C</td>\n",
       "      <td>First</td>\n",
       "      <td>woman</td>\n",
       "      <td>False</td>\n",
       "      <td>C</td>\n",
       "      <td>Cherbourg</td>\n",
       "      <td>yes</td>\n",
       "      <td>False</td>\n",
       "    </tr>\n",
       "    <tr>\n",
       "      <th>2</th>\n",
       "      <td>1</td>\n",
       "      <td>3</td>\n",
       "      <td>female</td>\n",
       "      <td>26.0</td>\n",
       "      <td>0</td>\n",
       "      <td>0</td>\n",
       "      <td>7.9250</td>\n",
       "      <td>S</td>\n",
       "      <td>Third</td>\n",
       "      <td>woman</td>\n",
       "      <td>False</td>\n",
       "      <td>NaN</td>\n",
       "      <td>Southampton</td>\n",
       "      <td>yes</td>\n",
       "      <td>True</td>\n",
       "    </tr>\n",
       "    <tr>\n",
       "      <th>3</th>\n",
       "      <td>1</td>\n",
       "      <td>1</td>\n",
       "      <td>female</td>\n",
       "      <td>35.0</td>\n",
       "      <td>1</td>\n",
       "      <td>0</td>\n",
       "      <td>53.1000</td>\n",
       "      <td>S</td>\n",
       "      <td>First</td>\n",
       "      <td>woman</td>\n",
       "      <td>False</td>\n",
       "      <td>C</td>\n",
       "      <td>Southampton</td>\n",
       "      <td>yes</td>\n",
       "      <td>False</td>\n",
       "    </tr>\n",
       "    <tr>\n",
       "      <th>4</th>\n",
       "      <td>0</td>\n",
       "      <td>3</td>\n",
       "      <td>male</td>\n",
       "      <td>35.0</td>\n",
       "      <td>0</td>\n",
       "      <td>0</td>\n",
       "      <td>8.0500</td>\n",
       "      <td>S</td>\n",
       "      <td>Third</td>\n",
       "      <td>man</td>\n",
       "      <td>True</td>\n",
       "      <td>NaN</td>\n",
       "      <td>Southampton</td>\n",
       "      <td>no</td>\n",
       "      <td>True</td>\n",
       "    </tr>\n",
       "  </tbody>\n",
       "</table>\n",
       "</div>"
      ],
      "text/plain": [
       "   survived  pclass     sex   age  sibsp  parch     fare embarked  class  \\\n",
       "0         0       3    male  22.0      1      0   7.2500        S  Third   \n",
       "1         1       1  female  38.0      1      0  71.2833        C  First   \n",
       "2         1       3  female  26.0      0      0   7.9250        S  Third   \n",
       "3         1       1  female  35.0      1      0  53.1000        S  First   \n",
       "4         0       3    male  35.0      0      0   8.0500        S  Third   \n",
       "\n",
       "     who  adult_male deck  embark_town alive  alone  \n",
       "0    man        True  NaN  Southampton    no  False  \n",
       "1  woman       False    C    Cherbourg   yes  False  \n",
       "2  woman       False  NaN  Southampton   yes   True  \n",
       "3  woman       False    C  Southampton   yes  False  \n",
       "4    man        True  NaN  Southampton    no   True  "
      ]
     },
     "execution_count": 98,
     "metadata": {},
     "output_type": "execute_result"
    }
   ],
   "source": [
    "df.head()"
   ]
  },
  {
   "cell_type": "markdown",
   "id": "a8234c4a-6ca0-448b-8651-9259b2521a6e",
   "metadata": {},
   "source": [
    "**df.head()** Returns The First 5 Rows of Data Frame by Default"
   ]
  },
  {
   "cell_type": "markdown",
   "id": "162b922b-a650-4fc5-aa7a-076c6ee5bdca",
   "metadata": {},
   "source": [
    "You can pass a number to **head()** to specify how many rows you want to see.\n",
    "\n",
    "For example, **df.head(10)** will return the first 10 rows."
   ]
  },
  {
   "cell_type": "markdown",
   "id": "798ae55f-cc1d-4052-9c5d-d32d8d01c9fb",
   "metadata": {},
   "source": [
    "## Find minimum values"
   ]
  },
  {
   "cell_type": "code",
   "execution_count": 99,
   "id": "eae01e3f-8c64-49ff-838f-b1bef652053b",
   "metadata": {},
   "outputs": [
    {
     "name": "stdout",
     "output_type": "stream",
     "text": [
      "Minimum values:\n",
      "survived          0\n",
      "pclass            1\n",
      "age            0.42\n",
      "sibsp             0\n",
      "parch             0\n",
      "fare            0.0\n",
      "adult_male    False\n",
      "alone         False\n",
      "dtype: object\n"
     ]
    }
   ],
   "source": [
    "min_values = df.min(numeric_only=True)\n",
    "print(\"Minimum values:\")\n",
    "print(min_values)"
   ]
  },
  {
   "cell_type": "markdown",
   "id": "01509bff-1b63-4966-8876-5712f261a59b",
   "metadata": {},
   "source": [
    "**df.min(numeric_only=True):** This command calculates the minimum values for all numerical columns in the DataFrame **df**.\n",
    "\n",
    "The **numeric_only=True** parameter ensures that only columns with numerical data types (like integers and floats) are considered, ignoring any non-numeric data.\n",
    "\n",
    "**print(\"Minimum values:\"):** This line simply prints a label so that when the minimum values are printed\n",
    "\n",
    "**print(min_values):** This prints the actual minimum values for each numerical column"
   ]
  },
  {
   "cell_type": "markdown",
   "id": "882503a9-02cb-4a68-967b-683cb5f08377",
   "metadata": {},
   "source": [
    "## Find maximum values"
   ]
  },
  {
   "cell_type": "code",
   "execution_count": 100,
   "id": "9b5d1a23-a1dc-436a-94a2-dacdb640ef7a",
   "metadata": {},
   "outputs": [
    {
     "name": "stdout",
     "output_type": "stream",
     "text": [
      "\n",
      "Maximum values:\n",
      "survived             1\n",
      "pclass               3\n",
      "age               80.0\n",
      "sibsp                8\n",
      "parch                6\n",
      "fare          512.3292\n",
      "adult_male        True\n",
      "alone             True\n",
      "dtype: object\n"
     ]
    }
   ],
   "source": [
    "max_values = df.max(numeric_only=True)\n",
    "print(\"\\nMaximum values:\")\n",
    "print(max_values)"
   ]
  },
  {
   "cell_type": "markdown",
   "id": "d199e8ee-41a8-4d83-bab1-1c3007dbe847",
   "metadata": {},
   "source": [
    "**df.max(numeric_only=True):** This command calculates the maximum values for all numerical columns in the DataFrame **df**.\n",
    "\n",
    "The **numeric_only=True** parameter ensures that only columns with numerical data types (like integers and floats) are considered, ignoring any non-numeric data.\n",
    "\n",
    "**print(\"Maximum values:\"):** This line simply prints a label so that when the maximum values are printed\n",
    "\n",
    "**print(max_values):** This prints the actual maximum values for each numerical column"
   ]
  },
  {
   "cell_type": "markdown",
   "id": "7d8cfa60-10c8-4ac1-8d21-02a8c51b7041",
   "metadata": {},
   "source": [
    "## Shape of the dataset"
   ]
  },
  {
   "cell_type": "code",
   "execution_count": 101,
   "id": "1c14de9a-0b47-4054-998e-00a8135327cc",
   "metadata": {},
   "outputs": [
    {
     "data": {
      "text/plain": [
       "(891, 15)"
      ]
     },
     "execution_count": 101,
     "metadata": {},
     "output_type": "execute_result"
    }
   ],
   "source": [
    "df.shape"
   ]
  },
  {
   "cell_type": "markdown",
   "id": "2f4ea9ee-a395-4e63-b360-34dd665f8105",
   "metadata": {},
   "source": [
    "Understanding **df.shape**\n",
    "\n",
    "Format: (number of rows, number of columns)\n",
    "\n",
    "This will provide us the shape of the data by counting the total number of rows and columns"
   ]
  },
  {
   "cell_type": "markdown",
   "id": "97739366-9535-4684-ba26-3cfad4790607",
   "metadata": {},
   "source": [
    "## Checking for missing values"
   ]
  },
  {
   "cell_type": "code",
   "execution_count": 102,
   "id": "d0c849df-0227-4d7d-b405-049cb5e09060",
   "metadata": {},
   "outputs": [
    {
     "data": {
      "text/plain": [
       "survived         0\n",
       "pclass           0\n",
       "sex              0\n",
       "age            177\n",
       "sibsp            0\n",
       "parch            0\n",
       "fare             0\n",
       "embarked         2\n",
       "class            0\n",
       "who              0\n",
       "adult_male       0\n",
       "deck           688\n",
       "embark_town      2\n",
       "alive            0\n",
       "alone            0\n",
       "dtype: int64"
      ]
     },
     "execution_count": 102,
     "metadata": {},
     "output_type": "execute_result"
    }
   ],
   "source": [
    "df.isna().sum()"
   ]
  },
  {
   "cell_type": "markdown",
   "id": "a8638b58-435b-49dd-9fb1-123b61fae7b6",
   "metadata": {},
   "source": [
    "**df.isna()**\n",
    "\n",
    "This method creates a DataFrame of the same shape as **df** with boolean values: **True**\n",
    "\n",
    "where values are NaN (representing missing data) and **False** where values are not NaN.\n",
    "\n",
    "**.sum()**\n",
    "\n",
    "This function sums up the True values (which are treated as 1) for each column, giving the count of missing values in each column.\n",
    "\n",
    "**Output Explanation:**\n",
    "\n",
    "The output will show a series where each index is a column name, and the corresponding value is the number of missing entries in that column."
   ]
  },
  {
   "cell_type": "markdown",
   "id": "dce7aebe-ad7a-41e6-82a1-953728497f5e",
   "metadata": {},
   "source": [
    "## Checking duplicates"
   ]
  },
  {
   "cell_type": "code",
   "execution_count": 103,
   "id": "599071d8-149b-4748-bfe9-cbf8b410ebc9",
   "metadata": {},
   "outputs": [
    {
     "data": {
      "text/plain": [
       "np.int64(107)"
      ]
     },
     "execution_count": 103,
     "metadata": {},
     "output_type": "execute_result"
    }
   ],
   "source": [
    "df.duplicated().sum()"
   ]
  },
  {
   "cell_type": "markdown",
   "id": "6f5a3877-f1a2-498f-af78-aeec44241481",
   "metadata": {},
   "source": [
    "**df.duplicated()**\n",
    "\n",
    "This method returns a boolean Series where The   duplicated indicates that the row is a duplicate of a previous row from our given data frame\n",
    "\n",
    "**Output Explanation:**\n",
    "\n",
    "**np.int64(36)** This indicates that there are 36 duplicate rows in the DataFrame.\n",
    "\n",
    "**Remove duplicate rows**\n",
    "df_cleaned = df.drop_duplicates()\n",
    "\n",
    "**Check the number of duplicates again**\n",
    "print(df.duplicated().sum())  # Should be 0 after removal"
   ]
  },
  {
   "cell_type": "markdown",
   "id": "543d11c2-2ee3-479e-8cd7-0ba4035e614f",
   "metadata": {},
   "source": [
    "## Checking the number of unique values of each column"
   ]
  },
  {
   "cell_type": "code",
   "execution_count": 104,
   "id": "f9049df4-26a3-4992-9667-ad2f573b6c5c",
   "metadata": {},
   "outputs": [
    {
     "data": {
      "text/plain": [
       "survived         2\n",
       "pclass           3\n",
       "sex              2\n",
       "age             88\n",
       "sibsp            7\n",
       "parch            7\n",
       "fare           248\n",
       "embarked         3\n",
       "class            3\n",
       "who              3\n",
       "adult_male       2\n",
       "deck             7\n",
       "embark_town      3\n",
       "alive            2\n",
       "alone            2\n",
       "dtype: int64"
      ]
     },
     "execution_count": 104,
     "metadata": {},
     "output_type": "execute_result"
    }
   ],
   "source": [
    "df.nunique()"
   ]
  },
  {
   "cell_type": "markdown",
   "id": "1983f9c7-bfa8-45b5-973c-c62c9116c3e9",
   "metadata": {},
   "source": [
    "**Output Explanation:**\n",
    "\n",
    "**survived: 2:**\n",
    "\n",
    "The survived column has 2 unique values (0 and 1).\n",
    "\n",
    "**pclass: 3:**\n",
    "\n",
    "The pclass column has 3 unique values (1, 2, and 3).\n",
    "\n",
    "**sex: 2:**\n",
    "\n",
    "The sex column has 2 unique values (male and female).\n",
    "\n",
    "**age: 88:**\n",
    "\n",
    "The age column has 88 unique values (ages ranging from 0.42 to 80).\n",
    "\n",
    "**sibsp: 7:**\n",
    "\n",
    "The sibsp column has 7 unique values (ranging from 0 to 8).\n",
    "\n"
   ]
  },
  {
   "cell_type": "markdown",
   "id": "3ebb4024-7aa6-474e-ba39-91ffa9c7afdb",
   "metadata": {},
   "source": [
    "## Check data types"
   ]
  },
  {
   "cell_type": "code",
   "execution_count": 105,
   "id": "03947d73-0db3-49ff-891a-75fac1bb0af3",
   "metadata": {},
   "outputs": [
    {
     "name": "stdout",
     "output_type": "stream",
     "text": [
      "<class 'pandas.core.frame.DataFrame'>\n",
      "RangeIndex: 891 entries, 0 to 890\n",
      "Data columns (total 15 columns):\n",
      " #   Column       Non-Null Count  Dtype  \n",
      "---  ------       --------------  -----  \n",
      " 0   survived     891 non-null    int64  \n",
      " 1   pclass       891 non-null    int64  \n",
      " 2   sex          891 non-null    object \n",
      " 3   age          714 non-null    float64\n",
      " 4   sibsp        891 non-null    int64  \n",
      " 5   parch        891 non-null    int64  \n",
      " 6   fare         891 non-null    float64\n",
      " 7   embarked     889 non-null    object \n",
      " 8   class        891 non-null    object \n",
      " 9   who          891 non-null    object \n",
      " 10  adult_male   891 non-null    bool   \n",
      " 11  deck         203 non-null    object \n",
      " 12  embark_town  889 non-null    object \n",
      " 13  alive        891 non-null    object \n",
      " 14  alone        891 non-null    bool   \n",
      "dtypes: bool(2), float64(2), int64(4), object(7)\n",
      "memory usage: 92.4+ KB\n"
     ]
    }
   ],
   "source": [
    "df.info()"
   ]
  },
  {
   "cell_type": "markdown",
   "id": "ea4ab4c8-fcbe-4526-b330-ee5c9ebb525e",
   "metadata": {},
   "source": [
    "## Exploring Data"
   ]
  },
  {
   "cell_type": "code",
   "execution_count": 106,
   "id": "72cbe569-f865-4e6e-8563-b759e9516e8b",
   "metadata": {},
   "outputs": [
    {
     "data": {
      "text/html": [
       "<div>\n",
       "<style scoped>\n",
       "    .dataframe tbody tr th:only-of-type {\n",
       "        vertical-align: middle;\n",
       "    }\n",
       "\n",
       "    .dataframe tbody tr th {\n",
       "        vertical-align: top;\n",
       "    }\n",
       "\n",
       "    .dataframe thead th {\n",
       "        text-align: right;\n",
       "    }\n",
       "</style>\n",
       "<table border=\"1\" class=\"dataframe\">\n",
       "  <thead>\n",
       "    <tr style=\"text-align: right;\">\n",
       "      <th></th>\n",
       "      <th>survived</th>\n",
       "      <th>pclass</th>\n",
       "      <th>sex</th>\n",
       "      <th>age</th>\n",
       "      <th>sibsp</th>\n",
       "      <th>parch</th>\n",
       "      <th>fare</th>\n",
       "      <th>embarked</th>\n",
       "      <th>class</th>\n",
       "      <th>who</th>\n",
       "      <th>adult_male</th>\n",
       "      <th>deck</th>\n",
       "      <th>embark_town</th>\n",
       "      <th>alive</th>\n",
       "      <th>alone</th>\n",
       "    </tr>\n",
       "  </thead>\n",
       "  <tbody>\n",
       "    <tr>\n",
       "      <th>0</th>\n",
       "      <td>0</td>\n",
       "      <td>3</td>\n",
       "      <td>male</td>\n",
       "      <td>22.0</td>\n",
       "      <td>1</td>\n",
       "      <td>0</td>\n",
       "      <td>7.2500</td>\n",
       "      <td>S</td>\n",
       "      <td>Third</td>\n",
       "      <td>man</td>\n",
       "      <td>True</td>\n",
       "      <td>NaN</td>\n",
       "      <td>Southampton</td>\n",
       "      <td>no</td>\n",
       "      <td>False</td>\n",
       "    </tr>\n",
       "    <tr>\n",
       "      <th>1</th>\n",
       "      <td>1</td>\n",
       "      <td>1</td>\n",
       "      <td>female</td>\n",
       "      <td>38.0</td>\n",
       "      <td>1</td>\n",
       "      <td>0</td>\n",
       "      <td>71.2833</td>\n",
       "      <td>C</td>\n",
       "      <td>First</td>\n",
       "      <td>woman</td>\n",
       "      <td>False</td>\n",
       "      <td>C</td>\n",
       "      <td>Cherbourg</td>\n",
       "      <td>yes</td>\n",
       "      <td>False</td>\n",
       "    </tr>\n",
       "    <tr>\n",
       "      <th>2</th>\n",
       "      <td>1</td>\n",
       "      <td>3</td>\n",
       "      <td>female</td>\n",
       "      <td>26.0</td>\n",
       "      <td>0</td>\n",
       "      <td>0</td>\n",
       "      <td>7.9250</td>\n",
       "      <td>S</td>\n",
       "      <td>Third</td>\n",
       "      <td>woman</td>\n",
       "      <td>False</td>\n",
       "      <td>NaN</td>\n",
       "      <td>Southampton</td>\n",
       "      <td>yes</td>\n",
       "      <td>True</td>\n",
       "    </tr>\n",
       "    <tr>\n",
       "      <th>3</th>\n",
       "      <td>1</td>\n",
       "      <td>1</td>\n",
       "      <td>female</td>\n",
       "      <td>35.0</td>\n",
       "      <td>1</td>\n",
       "      <td>0</td>\n",
       "      <td>53.1000</td>\n",
       "      <td>S</td>\n",
       "      <td>First</td>\n",
       "      <td>woman</td>\n",
       "      <td>False</td>\n",
       "      <td>C</td>\n",
       "      <td>Southampton</td>\n",
       "      <td>yes</td>\n",
       "      <td>False</td>\n",
       "    </tr>\n",
       "    <tr>\n",
       "      <th>4</th>\n",
       "      <td>0</td>\n",
       "      <td>3</td>\n",
       "      <td>male</td>\n",
       "      <td>35.0</td>\n",
       "      <td>0</td>\n",
       "      <td>0</td>\n",
       "      <td>8.0500</td>\n",
       "      <td>S</td>\n",
       "      <td>Third</td>\n",
       "      <td>man</td>\n",
       "      <td>True</td>\n",
       "      <td>NaN</td>\n",
       "      <td>Southampton</td>\n",
       "      <td>no</td>\n",
       "      <td>True</td>\n",
       "    </tr>\n",
       "  </tbody>\n",
       "</table>\n",
       "</div>"
      ],
      "text/plain": [
       "   survived  pclass     sex   age  sibsp  parch     fare embarked  class  \\\n",
       "0         0       3    male  22.0      1      0   7.2500        S  Third   \n",
       "1         1       1  female  38.0      1      0  71.2833        C  First   \n",
       "2         1       3  female  26.0      0      0   7.9250        S  Third   \n",
       "3         1       1  female  35.0      1      0  53.1000        S  First   \n",
       "4         0       3    male  35.0      0      0   8.0500        S  Third   \n",
       "\n",
       "     who  adult_male deck  embark_town alive  alone  \n",
       "0    man        True  NaN  Southampton    no  False  \n",
       "1  woman       False    C    Cherbourg   yes  False  \n",
       "2  woman       False  NaN  Southampton   yes   True  \n",
       "3  woman       False    C  Southampton   yes  False  \n",
       "4    man        True  NaN  Southampton    no   True  "
      ]
     },
     "execution_count": 106,
     "metadata": {},
     "output_type": "execute_result"
    }
   ],
   "source": [
    "df.head()"
   ]
  },
  {
   "cell_type": "markdown",
   "id": "8be1f88b-6383-4649-a26f-c4e7d303cf48",
   "metadata": {},
   "source": [
    "**Data Types (dtypes):**\n",
    "\n",
    "**bool(2):** 2 columns with boolean values (e.g., **adult_male, alone**).\n",
    "\n",
    "**float64(2):** 2 columns with floating-point numbers (e.g., **age, fare**).\n",
    "\n",
    "**int64(4):** 4 columns with integer values (e.g., **survived, pclass, sibsp, parch**).\n",
    "\n",
    "**object(7):** 7 columns with categorical or text data (e.g., **sex, embarked, deck**).\n",
    "\n",
    "**Memory Usage:**\n",
    "\n",
    "**memory usage: 92.4+ KB:**\n",
    "Indicates the amount of memory used to store the DataFrame."
   ]
  },
  {
   "cell_type": "markdown",
   "id": "5a752953-512e-428b-bd95-27f6ef1cfd15",
   "metadata": {},
   "source": [
    "**Why It's Useful:**\n",
    "\n",
    "It provides a quick snapshot of the data, allowing you to verify the DataFrame’s contents and format. This is especially helpful for initial data exploration and ensuring the data has been loaded correctly."
   ]
  },
  {
   "cell_type": "markdown",
   "id": "673443e4-5513-4661-b38d-f38374a8e94e",
   "metadata": {},
   "source": [
    "## Check statistics of data set"
   ]
  },
  {
   "cell_type": "code",
   "execution_count": 107,
   "id": "4f14bc8d-c0f6-4c76-91cf-e45c05e3485f",
   "metadata": {},
   "outputs": [
    {
     "data": {
      "text/html": [
       "<div>\n",
       "<style scoped>\n",
       "    .dataframe tbody tr th:only-of-type {\n",
       "        vertical-align: middle;\n",
       "    }\n",
       "\n",
       "    .dataframe tbody tr th {\n",
       "        vertical-align: top;\n",
       "    }\n",
       "\n",
       "    .dataframe thead th {\n",
       "        text-align: right;\n",
       "    }\n",
       "</style>\n",
       "<table border=\"1\" class=\"dataframe\">\n",
       "  <thead>\n",
       "    <tr style=\"text-align: right;\">\n",
       "      <th></th>\n",
       "      <th>survived</th>\n",
       "      <th>pclass</th>\n",
       "      <th>age</th>\n",
       "      <th>sibsp</th>\n",
       "      <th>parch</th>\n",
       "      <th>fare</th>\n",
       "    </tr>\n",
       "  </thead>\n",
       "  <tbody>\n",
       "    <tr>\n",
       "      <th>count</th>\n",
       "      <td>891.000000</td>\n",
       "      <td>891.000000</td>\n",
       "      <td>714.000000</td>\n",
       "      <td>891.000000</td>\n",
       "      <td>891.000000</td>\n",
       "      <td>891.000000</td>\n",
       "    </tr>\n",
       "    <tr>\n",
       "      <th>mean</th>\n",
       "      <td>0.383838</td>\n",
       "      <td>2.308642</td>\n",
       "      <td>29.699118</td>\n",
       "      <td>0.523008</td>\n",
       "      <td>0.381594</td>\n",
       "      <td>32.204208</td>\n",
       "    </tr>\n",
       "    <tr>\n",
       "      <th>std</th>\n",
       "      <td>0.486592</td>\n",
       "      <td>0.836071</td>\n",
       "      <td>14.526497</td>\n",
       "      <td>1.102743</td>\n",
       "      <td>0.806057</td>\n",
       "      <td>49.693429</td>\n",
       "    </tr>\n",
       "    <tr>\n",
       "      <th>min</th>\n",
       "      <td>0.000000</td>\n",
       "      <td>1.000000</td>\n",
       "      <td>0.420000</td>\n",
       "      <td>0.000000</td>\n",
       "      <td>0.000000</td>\n",
       "      <td>0.000000</td>\n",
       "    </tr>\n",
       "    <tr>\n",
       "      <th>25%</th>\n",
       "      <td>0.000000</td>\n",
       "      <td>2.000000</td>\n",
       "      <td>20.125000</td>\n",
       "      <td>0.000000</td>\n",
       "      <td>0.000000</td>\n",
       "      <td>7.910400</td>\n",
       "    </tr>\n",
       "    <tr>\n",
       "      <th>50%</th>\n",
       "      <td>0.000000</td>\n",
       "      <td>3.000000</td>\n",
       "      <td>28.000000</td>\n",
       "      <td>0.000000</td>\n",
       "      <td>0.000000</td>\n",
       "      <td>14.454200</td>\n",
       "    </tr>\n",
       "    <tr>\n",
       "      <th>75%</th>\n",
       "      <td>1.000000</td>\n",
       "      <td>3.000000</td>\n",
       "      <td>38.000000</td>\n",
       "      <td>1.000000</td>\n",
       "      <td>0.000000</td>\n",
       "      <td>31.000000</td>\n",
       "    </tr>\n",
       "    <tr>\n",
       "      <th>max</th>\n",
       "      <td>1.000000</td>\n",
       "      <td>3.000000</td>\n",
       "      <td>80.000000</td>\n",
       "      <td>8.000000</td>\n",
       "      <td>6.000000</td>\n",
       "      <td>512.329200</td>\n",
       "    </tr>\n",
       "  </tbody>\n",
       "</table>\n",
       "</div>"
      ],
      "text/plain": [
       "         survived      pclass         age       sibsp       parch        fare\n",
       "count  891.000000  891.000000  714.000000  891.000000  891.000000  891.000000\n",
       "mean     0.383838    2.308642   29.699118    0.523008    0.381594   32.204208\n",
       "std      0.486592    0.836071   14.526497    1.102743    0.806057   49.693429\n",
       "min      0.000000    1.000000    0.420000    0.000000    0.000000    0.000000\n",
       "25%      0.000000    2.000000   20.125000    0.000000    0.000000    7.910400\n",
       "50%      0.000000    3.000000   28.000000    0.000000    0.000000   14.454200\n",
       "75%      1.000000    3.000000   38.000000    1.000000    0.000000   31.000000\n",
       "max      1.000000    3.000000   80.000000    8.000000    6.000000  512.329200"
      ]
     },
     "execution_count": 107,
     "metadata": {},
     "output_type": "execute_result"
    }
   ],
   "source": [
    "df.describe()"
   ]
  },
  {
   "cell_type": "markdown",
   "id": "a2e30312-22d4-4ac6-955c-4ad7c29f42a4",
   "metadata": {},
   "source": [
    "**Count:** The number of non-null entries in each column.\n",
    "\n",
    "**Mean:** The average value of each column.\n",
    "\n",
    "**Standard Deviation (std):** A measure of the amount of variation or dispersion of values in the column. A high standard deviation indicates more variability.\n",
    "\n",
    "**Min:** The smallest value in each column.\n"
   ]
  },
  {
   "cell_type": "markdown",
   "id": "ee3ca053-04e9-4b39-9cd8-6295f7772229",
   "metadata": {},
   "source": [
    "## 25% (First Quartile):\n",
    "The value below which 25% of the data falls. This is the first quartile of the data.\n",
    "## 50% (Median or Second Quartile):\n",
    "The middle value of the data when sorted. It separates the data into two equal halves.\n",
    "## 75% (Third Quartile):\n",
    "The value below which 75% of the data falls. This is the third quartile of the data.\n",
    "\n",
    "## Max:\n",
    "The largest value in each column.\n",
    "\n",
    "The term **\"describe\"** in **df.describe()** refers to the function's ability to provide a comprehensive summary of the distribution and statistical characteristics of the numerical data. The word \"describe\" encapsulates the function's role in offering a detailed overview of:\n",
    "\n",
    "Central tendency (mean, median)\n",
    "\n",
    "Spread/dispersion (standard deviation, quartiles)\n",
    "\n",
    "Range (min, max)"
   ]
  },
  {
   "cell_type": "markdown",
   "id": "56c223ec-e895-45b9-954b-212c9a0e1cb8",
   "metadata": {},
   "source": [
    "## Finding categories in every Filed"
   ]
  },
  {
   "cell_type": "code",
   "execution_count": 108,
   "id": "d3db2e94-9561-4801-83a3-bc3b2a893399",
   "metadata": {},
   "outputs": [
    {
     "name": "stdout",
     "output_type": "stream",
     "text": [
      "Categories in 'pclass' :      [3 1 2]\n",
      "Categories in 'sex':   ['male' 'female']\n",
      "Categories in'age':    [22.   38.   26.   35.     nan 54.    2.   27.   14.    4.   58.   20.\n",
      " 39.   55.   31.   34.   15.   28.    8.   19.   40.   66.   42.   21.\n",
      " 18.    3.    7.   49.   29.   65.   28.5   5.   11.   45.   17.   32.\n",
      " 16.   25.    0.83 30.   33.   23.   24.   46.   59.   71.   37.   47.\n",
      " 14.5  70.5  32.5  12.    9.   36.5  51.   55.5  40.5  44.    1.   61.\n",
      " 56.   50.   36.   45.5  20.5  62.   41.   52.   63.   23.5   0.92 43.\n",
      " 60.   10.   64.   13.   48.    0.75 53.   57.   80.   70.   24.5   6.\n",
      "  0.67 30.5   0.42 34.5  74.  ]\n",
      "Categories in 'embarked':   ['S' 'C' 'Q' nan]\n",
      "Categories in 'adult_male':     [ True False]\n",
      "Categories in 'alone':      [False  True]\n"
     ]
    }
   ],
   "source": [
    "print(\"Categories in 'pclass' :     \",end=\" \" )\n",
    "print(df['pclass'].unique())\n",
    "print(\"Categories in 'sex':  \",end=\" \")\n",
    "print(df['sex'].unique())\n",
    "\n",
    "print(\"Categories in'age':   \",end=\" \" )\n",
    "print(df['age'].unique())\n",
    "\n",
    "print(\"Categories in 'embarked':  \",end=\" \" )\n",
    "print(df['embarked'].unique())\n",
    "\n",
    "print(\"Categories in 'adult_male':    \",end=\" \" )\n",
    "print(df['adult_male'].unique())\n",
    "\n",
    "print(\"Categories in 'alone':     \",end=\" \" )\n",
    "print(df['alone'].unique())\n"
   ]
  },
  {
   "cell_type": "markdown",
   "id": "8db6ebc3-a5a1-46e4-9b67-b79de9130424",
   "metadata": {},
   "source": [
    "**print(\"Categories in 'pclass': \", end=\" \" )**\n",
    "\n",
    "**print()** This function outputs text\n",
    "\n",
    "**\"Categories in 'pclass' :\"** The text to be printed. It provides a label for the output, indicating that the following information will list the unique categories in the pclass column.\n",
    "\n",
    "**end=\" \"** This argument specifies that the output should not end with a newline (\\n) but with a space instead. This means the next part of the output will be on the same line.\n",
    "\n",
    "\n",
    "**df['pclass'].unique():**\n",
    "\n",
    "**df** Refers to the DataFrame object containing the data.\n",
    "\n",
    "**['pclass']** Accesses the column named pclass in the DataFrame.\n",
    "\n",
    "**.unique()** This method returns an array of unique values found in the pclass column.\n",
    "Working of Each Word"
   ]
  },
  {
   "cell_type": "markdown",
   "id": "16c744ac-f964-4606-a6d3-0cccb75b08d3",
   "metadata": {},
   "source": [
    "## Define numerical & categorical columns"
   ]
  },
  {
   "cell_type": "code",
   "execution_count": 109,
   "id": "7b8c3a91-5ac0-4e66-b6cd-b3a3e51c3693",
   "metadata": {},
   "outputs": [],
   "source": [
    "numeric_features = [feature for feature in df.columns if df[feature].dtype != 'O']"
   ]
  },
  {
   "cell_type": "markdown",
   "id": "fee27cec-26de-4bb9-ab99-13445d38d9f2",
   "metadata": {},
   "source": [
    "**df.columns** A list of all column names in the DataFrame.\n",
    "\n",
    "**for feature in df.columns** go through every column one by one. \n",
    "\n",
    "**df[feature].dtype != 'O'** Checks if the data type of the column is not 'O' (object). In pandas, 'O' represents object data types, typically used for strings or categorical data.\n",
    "\n",
    "--> **.dtype** tells you the type of data in each column.\n",
    "\n",
    "--> **!= 'O'** checks if the data type is not the type 'O' (which stands for object, like text).\n",
    "\n",
    "--> **.dtype != 'O'** means, \"Find columns where the data is not text.\"\n",
    "\n",
    "**[feature for feature in]** List comprehension that collects column names where the condition is true (i.e., the data type is not 'O').\n",
    "Result: numeric_features will contain column names with numerical data types (e.g., survived, pclass & more)."
   ]
  },
  {
   "cell_type": "code",
   "execution_count": 110,
   "id": "3b60855c-3713-4fee-950a-5e3bd7329cfc",
   "metadata": {},
   "outputs": [],
   "source": [
    "categorical_features = [feature for feature in df.columns if df[feature].dtype == 'O']"
   ]
  },
  {
   "cell_type": "markdown",
   "id": "fa139691-cfe2-4074-8e5b-7dc85e41989f",
   "metadata": {},
   "source": [
    "**df.columns** A list of all column names in the DataFrame\n",
    "\n",
    "**for feature in df.columns** Iterates over each column name\n",
    "\n",
    "**df[feature].dtype == 'O'** Checks if the data type of the column is 'O' (object)\n",
    "\n",
    "**[feature for feature in]** List comprehension that collects column names where the condition is true (i.e., the data type is 'O')"
   ]
  },
  {
   "cell_type": "markdown",
   "id": "0bf13831-c480-4762-aba4-1d49ab4ec5e8",
   "metadata": {},
   "source": [
    "## Printing the total numerical & categorical features"
   ]
  },
  {
   "cell_type": "code",
   "execution_count": 111,
   "id": "a1e8f0a7-a692-4245-8c3b-f5ec7154a0fb",
   "metadata": {},
   "outputs": [
    {
     "name": "stdout",
     "output_type": "stream",
     "text": [
      "We have 8 numerical features : ['survived', 'pclass', 'age', 'sibsp', 'parch', 'fare', 'adult_male', 'alone']\n"
     ]
    }
   ],
   "source": [
    "\n",
    "print('We have {} numerical features : {}'.format(len(numeric_features), numeric_features))\n"
   ]
  },
  {
   "cell_type": "markdown",
   "id": "1b05929e-e5dd-4a54-b1d4-e54b21ee5d1b",
   "metadata": {},
   "source": [
    "**print()** This command displays text on the screen.\n",
    "\n",
    "**'We have {} numerical features : {}'** This is a template for the message you want to display. The {} are placeholders that will be replaced with actual values\n",
    "    \n",
    "**.format()** This method replaces the placeholders {} with values you provide\n",
    "\n",
    "**len(numeric_features)** Calculates the number of numerical features (columns) in your data\n",
    "    \n",
    "**numeric_features** Contains the names of all numerical features\n",
    "\n"
   ]
  },
  {
   "cell_type": "code",
   "execution_count": 112,
   "id": "e46d6f00-f9d4-4d8e-87ac-9c69c7cf4999",
   "metadata": {},
   "outputs": [
    {
     "name": "stdout",
     "output_type": "stream",
     "text": [
      "\n",
      "We have 7 categorical features : ['sex', 'embarked', 'class', 'who', 'deck', 'embark_town', 'alive']\n"
     ]
    }
   ],
   "source": [
    "print('\\nWe have {} categorical features : {}'.format(len(categorical_features), categorical_features))"
   ]
  },
  {
   "cell_type": "markdown",
   "id": "cad1d109-58cb-4ce3-8902-3e69bc157428",
   "metadata": {},
   "source": [
    "**'We have {} categorical features : {}'** This template is for displaying the number of categorical features and their names\n",
    "\n",
    "**.format()** Replaces the {} placeholders with values you provide\n",
    "\n",
    "**len(categorical_features)** Calculates the number of categorical features (columns) in your data\n",
    "\n",
    "**categorical_features**  Contains the names of all categorical features"
   ]
  },
  {
   "cell_type": "markdown",
   "id": "ca9e3bd8-2b25-4ddc-a9d7-ce6ea7573557",
   "metadata": {},
   "source": [
    "## checking head"
   ]
  },
  {
   "cell_type": "code",
   "execution_count": 113,
   "id": "7a164d55-6124-41db-bffd-e4ddb48f8251",
   "metadata": {},
   "outputs": [
    {
     "data": {
      "text/html": [
       "<div>\n",
       "<style scoped>\n",
       "    .dataframe tbody tr th:only-of-type {\n",
       "        vertical-align: middle;\n",
       "    }\n",
       "\n",
       "    .dataframe tbody tr th {\n",
       "        vertical-align: top;\n",
       "    }\n",
       "\n",
       "    .dataframe thead th {\n",
       "        text-align: right;\n",
       "    }\n",
       "</style>\n",
       "<table border=\"1\" class=\"dataframe\">\n",
       "  <thead>\n",
       "    <tr style=\"text-align: right;\">\n",
       "      <th></th>\n",
       "      <th>survived</th>\n",
       "      <th>pclass</th>\n",
       "      <th>sex</th>\n",
       "      <th>age</th>\n",
       "      <th>sibsp</th>\n",
       "      <th>parch</th>\n",
       "      <th>fare</th>\n",
       "      <th>embarked</th>\n",
       "      <th>class</th>\n",
       "      <th>who</th>\n",
       "      <th>adult_male</th>\n",
       "      <th>deck</th>\n",
       "      <th>embark_town</th>\n",
       "      <th>alive</th>\n",
       "      <th>alone</th>\n",
       "    </tr>\n",
       "  </thead>\n",
       "  <tbody>\n",
       "    <tr>\n",
       "      <th>0</th>\n",
       "      <td>0</td>\n",
       "      <td>3</td>\n",
       "      <td>male</td>\n",
       "      <td>22.0</td>\n",
       "      <td>1</td>\n",
       "      <td>0</td>\n",
       "      <td>7.2500</td>\n",
       "      <td>S</td>\n",
       "      <td>Third</td>\n",
       "      <td>man</td>\n",
       "      <td>True</td>\n",
       "      <td>NaN</td>\n",
       "      <td>Southampton</td>\n",
       "      <td>no</td>\n",
       "      <td>False</td>\n",
       "    </tr>\n",
       "    <tr>\n",
       "      <th>1</th>\n",
       "      <td>1</td>\n",
       "      <td>1</td>\n",
       "      <td>female</td>\n",
       "      <td>38.0</td>\n",
       "      <td>1</td>\n",
       "      <td>0</td>\n",
       "      <td>71.2833</td>\n",
       "      <td>C</td>\n",
       "      <td>First</td>\n",
       "      <td>woman</td>\n",
       "      <td>False</td>\n",
       "      <td>C</td>\n",
       "      <td>Cherbourg</td>\n",
       "      <td>yes</td>\n",
       "      <td>False</td>\n",
       "    </tr>\n",
       "  </tbody>\n",
       "</table>\n",
       "</div>"
      ],
      "text/plain": [
       "   survived  pclass     sex   age  sibsp  parch     fare embarked  class  \\\n",
       "0         0       3    male  22.0      1      0   7.2500        S  Third   \n",
       "1         1       1  female  38.0      1      0  71.2833        C  First   \n",
       "\n",
       "     who  adult_male deck  embark_town alive  alone  \n",
       "0    man        True  NaN  Southampton    no  False  \n",
       "1  woman       False    C    Cherbourg   yes  False  "
      ]
     },
     "execution_count": 113,
     "metadata": {},
     "output_type": "execute_result"
    }
   ],
   "source": [
    "df.head(2) "
   ]
  },
  {
   "cell_type": "markdown",
   "id": "fd795fec-fb9e-4ff2-ba97-45193cbf9fc7",
   "metadata": {},
   "source": [
    "## Comparison of Pclass vs Sex"
   ]
  },
  {
   "cell_type": "code",
   "execution_count": 114,
   "id": "eb63a736-77c6-41d0-8bfe-120f790fea41",
   "metadata": {},
   "outputs": [
    {
     "data": {
      "image/png": "[encoded data removed]",
      "text/plain": [
       "<Figure size 1000x600 with 1 Axes>"
      ]
     },
     "metadata": {},
     "output_type": "display_data"
    }
   ],
   "source": [
    "# Create a count plot with default colors\n",
    "plt.figure(figsize=(10, 6))\n",
    "sns.countplot(x='pclass', hue='sex', data=df)\n",
    "plt.title('Comparison of Pclass vs Sex')\n",
    "plt.xlabel('Pclass')\n",
    "plt.ylabel('Count')\n",
    "plt.show()\n"
   ]
  },
  {
   "cell_type": "markdown",
   "id": "8fa37660-1249-4064-8c58-3e694374a015",
   "metadata": {},
   "source": [
    "**sns.countplot** Creates a bar chart that shows counts of observations in each categorical bin\n",
    "\n",
    "**x='pclass'** Specifies that the x-axis will display different classes (pclass). Each bar represents a class (1, 2, or 3)\n",
    "\n",
    "**hue='sex'** Colors the bars based on gender (sex). Different colors will represent different genders (e.g., blue for males and pink for females, but the exact colors are chosen by default)\n",
    "\n",
    "**hue** is a parameter in Seaborn that allows you to add color coding to different groups within your data. It's used to create plots with multiple categories shown with different colors. This helps in visually differentiating groups within the same category.\n",
    "\n",
    "**data=df** Provides the data for the plot. df is the DataFrame that contains the data to be visualized."
   ]
  },
  {
   "cell_type": "markdown",
   "id": "285ca4e2-eff7-4df4-9202-871980a44838",
   "metadata": {},
   "source": [
    "## Create a count plot with custom colors"
   ]
  },
  {
   "cell_type": "code",
   "execution_count": 115,
   "id": "f64dce92-9878-4bd9-82d4-40963525277c",
   "metadata": {},
   "outputs": [
    {
     "data": {
      "image/png": "[encoded data removed]",
      "text/plain": [
       "<Figure size 1000x600 with 1 Axes>"
      ]
     },
     "metadata": {},
     "output_type": "display_data"
    }
   ],
   "source": [
    "# Create a count plot with custom colors\n",
    "plt.figure(figsize=(10, 6)) #\n",
    "sns.countplot(x='pclass', hue='sex', data=df, palette={'male': 'blue', 'female': 'pink'})\n",
    "plt.title('Comparison of Pclass vs Sex')\n",
    "plt.xlabel('Pclass')\n",
    "plt.ylabel('Count')\n",
    "plt.show()"
   ]
  },
  {
   "cell_type": "markdown",
   "id": "235a8675-10f1-4b36-8c34-5b6f403a5d8a",
   "metadata": {},
   "source": [
    "**palette** refers to a set of colors used to represent different categories or values in a plot. It helps in differentiating between various elements by assigning specific colors to them."
   ]
  },
  {
   "cell_type": "markdown",
   "id": "4bb73043-e9e2-459e-bbe9-55ea73ea97cd",
   "metadata": {},
   "source": [
    "## Testing The Actual Data In Graph Of Age vs Fair"
   ]
  },
  {
   "cell_type": "code",
   "execution_count": 116,
   "id": "7d0b6375-603f-4055-bbfd-6aebd1c43f20",
   "metadata": {},
   "outputs": [
    {
     "data": {
      "image/png": "[encoded data removed]",
      "text/plain": [
       "<Figure size 1000x500 with 1 Axes>"
      ]
     },
     "metadata": {},
     "output_type": "display_data"
    }
   ],
   "source": [
    "df = df.dropna(subset=['age', 'adult_male'])\n",
    "\n",
    "# Prepare data for plotting\n",
    "X = df['age']\n",
    "Y = df['fare'] \n",
    "# Create the plot\n",
    "plt.figure(figsize=(10, 5))\n",
    "plt.scatter(X, Y, color='blue', label='Actual Data')\n",
    "plt.xlabel('Age')\n",
    "plt.ylabel('fare')\n",
    "plt.title('Age vs FAIR')\n",
    "plt.legend()\n",
    "plt.show()"
   ]
  },
  {
   "cell_type": "markdown",
   "id": "dc89d55c-0a0d-41da-b14d-84595a710830",
   "metadata": {},
   "source": [
    "**df.dropna(subset=['age', 'adult_male'])**\n",
    "\n",
    "This line removes any rows from the DataFrame **df** where the values in the columns **'age'** or **'adult_male'** are missing (NaN). This ensures that only rows with complete data in these columns are used for plotting.\n",
    "\n",
    "**dropna()** This function removes rows or columns with missing (NaN) values. By default, it removes rows with any missing values.\n",
    "\n",
    "**subset=['age', 'adult_male']** This argument specifies which columns to check for missing values. In this case, it indicates that rows should be removed if they have missing values in either the 'age' or 'adult_male' columns. This ensures that only rows with complete data in these critical columns are retained for analysis.\n",
    "\n",
    "**Why Removing Nan Values** Dropping rows with missing values in critical columns ensures that the dataset used for plotting is complete and accurate. It prevents errors and misleading results that could arise from missing data.\n",
    "\n",
    "**X = df['age']** This line extracts the 'age' column from the DataFrame df and assigns it to the variable X. This variable will be used for the x-axis of the scatter plot.\n",
    "\n",
    "**Y = df['fare']** This line extracts the 'fare' column from the DataFrame df and assigns it to the variable Y. The variable will be used for the y-axix of the graph.\n",
    "\n",
    "**model.predict(X_test)** This uses the trained model to predict 'fare' values based on the test feature data **(X_test)**\n",
    "\n",
    "**Y_pred** This variable holds the predicted values of 'fare' corresponding to the test set feature data\n",
    "\n",
    "**plt.figure(figsize=(10, 5))** This sets up the size of the figure for the plot. The **figsize** parameter specifies the width and height of the plot in inches\n",
    "\n",
    "**plt.scatter(X_test, Y_test, color='blue', label='Actual Data')** Creates a scatter plot of the test data:\n",
    "\n",
    "\n",
    "**X_test:** The feature data used for plotting (age).\n",
    "\n",
    "**Y_test:** The actual target values (fare) used for plotting.\n",
    "\n",
    "**color='blue':** Sets the color of the scatter plot points to blue.\n",
    "\n",
    "**label='Actual Data':** Labels the scatter plot points as \"Actual Data\" for the legend."
   ]
  },
  {
   "cell_type": "markdown",
   "id": "54a6a18c-e28b-4542-972c-3b22f029feeb",
   "metadata": {},
   "source": [
    "## Average Fare by Passenger Class"
   ]
  },
  {
   "cell_type": "code",
   "execution_count": 127,
   "id": "0bd5b575-ec3e-4ef4-82af-82604b0c0e29",
   "metadata": {},
   "outputs": [
    {
     "data": {
      "image/png": "[encoded data removed]",
      "text/plain": [
       "<Figure size 1000x600 with 1 Axes>"
      ]
     },
     "metadata": {},
     "output_type": "display_data"
    }
   ],
   "source": [
    "df = df.dropna(subset=['fare', 'pclass'])\n",
    "\n",
    "# Group by 'pclass' and calculate the average fare\n",
    "avg_fareinclass = df.groupby('pclass')['fare'].mean()\n",
    "\n",
    "# Create the bar graph\n",
    "plt.figure(figsize=(10, 6))\n",
    "avg_fareinclass.plot(kind='bar', color='skyblue')\n",
    "plt.xlabel('Passenger Class')\n",
    "plt.ylabel('Average Fare')\n",
    "plt.title('Average Fare by Passenger Class')\n",
    "plt.xticks(ticks=[0, 1, 2], labels=['First', 'Second', 'Third'], rotation=0)\n",
    "plt.grid(axis='y', linestyle='--', alpha=0.7)\n",
    "plt.show()"
   ]
  },
  {
   "cell_type": "markdown",
   "id": "45e9ac98-77d4-47e7-9df9-0bebfffff1c5",
   "metadata": {},
   "source": [
    "**avg_fareinclass = df.groupby('pclass')['fare'].mean()**\n",
    "This groups the data by passenger class ('pclass') and then calculates the average fare **'fare'** for each class\n",
    "\n",
    "**dropna()** A function that removes rows or columns with Not a num values\n",
    "\n",
    "**['fare', 'pclass']** A list of column names **'fare'** and **'pclass'** to check for Not a num  values\n",
    "\n",
    "**df.groupby('pclass')** Groups the data based on the **'pclass'** column\n",
    "\n",
    "**groupby()** A method to group data by specified columns\n",
    "\n",
    "**'pclass'** The column name used to group the data\n",
    "\n",
    "**['fare']** Selects the **'fare'** column from the grouped data. A column name inside brackets to access that specific column\n",
    "\n",
    "**.mean()** Calculates the mean (average) of the 'fare' for each group. A method that computes the average value\n",
    "\n",
    "**avg_fareinclass.plot()** Calls the plot function on the data to create a graph\n",
    "\n",
    "**plot()** A method to create different types of plots (like bars, lines)\n",
    "\n",
    "**kind='bar'** Specifies the type of plot, a parameter that defines the type of graph\n",
    "\n",
    "**'bar'** a type of plot where data is shown as bars"
   ]
  },
  {
   "cell_type": "markdown",
   "id": "c5e9c490-5cf0-45d6-8906-ea042bc92890",
   "metadata": {},
   "source": [
    "**plt.xticks()** This function is used to customize the ticks on the x-axis of your plot.\n",
    "\n",
    "**ticks=[0, 1, 2]** This specifies the positions where the ticks (the small lines or marks) should appear on the x-axis.\n",
    "\n",
    "**[0, 1, 2]** These are the positions on the x-axis where you want ticks to be placed. In this graph, these correspond to the different classes (First, Second, Third)\n",
    "\n",
    "**rotation=0** This controls the angle of the text labels for the ticks\n",
    "\n",
    "**0:** This means the labels will be horizontal, making them easier to read\n",
    "\n",
    "**plt.grid(axis='y', linestyle='--', alpha=0.7)**\n",
    "**plt.grid()** This function adds a grid to your plot to make it easier to read the values\n",
    "\n",
    "**axis='y'** This specifies which axis the grid lines should be drawn along.\n",
    "**'y'** This means the grid lines will be vertical lines that run parallel to the y-axis. They help you read the y-values more easily\n",
    "\n",
    "**linestyle='--'** This defines how the grid lines look.\n",
    "\n",
    "**'--'** This creates dashed lines. It makes the grid lines visible but not too bold, so they don’t overpower the main content of the graph\n",
    "\n",
    "**alpha=0.7** This controls the transparency of the grid lines\n",
    "\n",
    "**0.7** This means the grid lines are slightly transparent, so they don’t obscure the data but are still visible enough to help with reading the plot.\n",
    "\n",
    "alpha = 0: Fully transparent (invisible)\n",
    "alpha = 1: Fully opaque (not transparent)"
   ]
  },
  {
   "cell_type": "markdown",
   "id": "84e220f2-f575-4545-9c55-bae0db4532b5",
   "metadata": {},
   "source": [
    "## Age vs Fare with Linear Regression"
   ]
  },
  {
   "cell_type": "code",
   "execution_count": 118,
   "id": "24b34430-279f-449a-90ad-c8fd21cec31a",
   "metadata": {},
   "outputs": [],
   "source": [
    "from sklearn.model_selection import train_test_split as TTS"
   ]
  },
  {
   "cell_type": "code",
   "execution_count": 119,
   "id": "a6c61d57-a218-48d0-924f-be2078c8f8e8",
   "metadata": {},
   "outputs": [
    {
     "data": {
      "image/png": "[encoded data removed]",
      "text/plain": [
       "<Figure size 1000x500 with 1 Axes>"
      ]
     },
     "metadata": {},
     "output_type": "display_data"
    }
   ],
   "source": [
    "# Prepare data for plotting \n",
    "X = df[['age']]  # Feature: Age\n",
    "Y = df['fare']   # Target: Fare\n",
    "\n",
    "# Split data into training and test sets\n",
    "X_train, X_test, Y_train, Y_test = TTS(X, Y, test_size=0.30, random_state=0)\n",
    "#TTS --> It splits the data into training and testing sets.\n",
    "# Create and train the model\n",
    "model = LinearRegression()\n",
    "model.fit(X_train, Y_train)\n",
    "\n",
    "# Predict fare values for the test set\n",
    "Y_pred = model.predict(X_test)\n",
    "\n",
    "# Create a scatter plot of actual vs predicted fares\n",
    "plt.figure(figsize=(10, 5))\n",
    "\n",
    "# Scatter plot for test data, excluding NaNs\n",
    "plt.scatter(X_test, Y_test, color='blue', label='Actual Data')\n",
    "\n",
    "# Plot predicted values, ensuring we only plot where we have test data\n",
    "plt.plot(X_test, Y_pred, color='red', label='Predicted Data')\n",
    "\n",
    "# Add titles and labels\n",
    "plt.xlabel('Age')\n",
    "plt.ylabel('Fare')\n",
    "plt.title('Age vs Fare with Linear Regression (Test Data)')\n",
    "plt.legend()\n",
    "\n",
    "# Show the plot\n",
    "plt.show()"
   ]
  },
  {
   "cell_type": "markdown",
   "id": "310098e9-f6ae-43ec-af02-ecfc9f6ab7be",
   "metadata": {},
   "source": [
    "**X = df[['age']]** This selects the 'age' column from the DataFrame df as the feature data (independent variable). We use double brackets [['age']] to ensure X is a DataFrame with one column.\n",
    "\n",
    "**Y = df['fare']** This selects the 'fare' column from df as the target data (dependent variable)."
   ]
  },
  {
   "cell_type": "markdown",
   "id": "6d77eb13-c54d-43b9-9cd5-06d288c7a2df",
   "metadata": {},
   "source": [
    "**test_size=0.30** This specifies that 30% of the data should be used for testing, and the remaining 70% will be used for training.\n",
    "\n",
    "**random_state=0** This is a seed value for random number generation to ensure the results are reproducible. It helps to get the same split every time you run the code.\n",
    "\n",
    "**X_train** and **Y_train** are used for training the model.\n",
    "\n",
    "**X_test** and **Y_test** are used for testing and evaluating the model.\n",
    "\n",
    "**LinearRegression()** This creates an instance of the LinearRegression model from sklearn. It represents a linear regression model, which will be used to predict 'fare' based on 'age'.\n",
    "\n",
    "**model.fit(X_train, Y_train)** This trains the linear regression model using the training data:\n",
    "\n",
    "**X_train** The feature data used for training (age)\n",
    "\n",
    "**Y_train** The target data used for training (fare)\n",
    "\n",
    "**model = LinearRegression()** Creates an instance of a linear regression model.\n",
    "\n",
    "**model.fit(X_train, Y_train)** Trains the model on the training data (X_train, Y_train).\n",
    "\n",
    "**Y_pred** Stores the predicted fare values based on the test set features **X_test**\n",
    "\n",
    "**plt.scatter(X_test, Y_test, color='blue', label='Actual Data')**\n",
    "Creates a scatter plot of the actual test data.\n",
    "\n",
    "**color='blue'** Colors the points blue.\n",
    "\n",
    "**label='Actual Data'** Labels the scatter plot points as \"Actual Data\"\n",
    "\n",
    "**plt.plot(X_test, Y_pred, color='red', label='Predicted Data')**\n",
    "Plots the predicted fare values as a line plot\n",
    "\n",
    "**color='red'** Colors the line red\n",
    "\n",
    "**label='Predicted Data'** Labels the line as \"Predicted Data\"\n",
    "\n",
    "**plt.xlabel('Age')** Labels the x-axis as \"Age\"\n",
    "\n",
    "**plt.ylabel('Fare')** Labels the y-axis as \"Fare\"\n",
    "\n",
    "**plt.title('Age vs Fare with Linear Regression (Test Data)')** Sets the title of the plot\n",
    "\n",
    "**plt.legend()** Displays the legend with labels for the actual and predicted data"
   ]
  },
  {
   "cell_type": "markdown",
   "id": "3b3f4308-8469-44c0-b0f1-e6ccc7034fc7",
   "metadata": {},
   "source": [
    "## Age vs Fair"
   ]
  },
  {
   "cell_type": "markdown",
   "id": "03245575-3566-4b4b-ac8d-6594e9584cae",
   "metadata": {},
   "source": [
    "##  All Three Different Graphs for All Mens,Women,Childrens"
   ]
  },
  {
   "cell_type": "code",
   "execution_count": 120,
   "id": "cde14f5a-c869-4ba8-b551-96c5ac06d482",
   "metadata": {},
   "outputs": [
    {
     "data": {
      "image/png": "[encoded data removed]",
      "text/plain": [
       "<Figure size 1000x500 with 3 Axes>"
      ]
     },
     "metadata": {},
     "output_type": "display_data"
    }
   ],
   "source": [
    "df = df.dropna(subset=['age', 'fare']) #The code removes any rows where the 'age' or 'fare' values are missing (NaN) to ensure the model only trains on complete data.\n",
    "X = df[['fare']]\n",
    "Y = df['age']\n",
    "\n",
    "# Create and train the model\n",
    "model = LinearRegression()\n",
    "model.fit(X, Y)\n",
    "\n",
    "# Predict the age values using the model\n",
    "fare_values = np.linspace(df['fare'].min(), df['fare'].max(), 100).reshape(-1, 1)\n",
    "age_pred = model.predict(fare_values)\n",
    "\n",
    "\n",
    "plt.figure(figsize=(10, 5))\n",
    "\n",
    "# Plot for 'man'\n",
    "plt.subplot(1, 3, 1)\n",
    "df_man = df[df['who'] == 'man']\n",
    "#df['who'] == 'man' creates a data frame where all the values are men \n",
    "#then df[df['who']=='man'] becames a new data frame where all the values are men only\n",
    "#and then named them df_man\n",
    "plt.scatter(df_man['fare'], df_man['age'], color='blue', label='Actual Data')\n",
    "plt.plot(fare_values, age_pred, color='red', label='Predicted Data')\n",
    "plt.xlabel('Fare')\n",
    "plt.ylabel('Age')\n",
    "plt.title('Age vs Fare (Man)')\n",
    "plt.legend()\n",
    "\n",
    "# Plot for 'woman'\n",
    "plt.subplot(1, 3, 2)\n",
    "df_woman = df[df['who'] == 'woman']\n",
    "plt.scatter(df_woman['fare'], df_woman['age'], color='blue', label='Actual Data')\n",
    "plt.plot(fare_values, age_pred, color='red', label='Predicted Data')\n",
    "plt.xlabel('Fare')\n",
    "plt.ylabel('Age')\n",
    "plt.title('Age vs Fare (Woman)')\n",
    "plt.legend()\n",
    "\n",
    "# Plot for 'child'\n",
    "plt.subplot(1, 3, 3)\n",
    "df_child = df[df['who'] == 'child']\n",
    "plt.scatter(df_child['fare'], df_child['age'], color='blue', label='Actual Data')\n",
    "plt.plot(fare_values, age_pred, color='red', label='Predicted Data')\n",
    "plt.xlabel('Fare')\n",
    "plt.ylabel('Age')\n",
    "plt.title('Age vs Fare (Child)')\n",
    "plt.legend()\n",
    "\n",
    "plt.tight_layout()\n",
    "plt.show()\n"
   ]
  },
  {
   "cell_type": "markdown",
   "id": "9a187734-67e5-46e2-ba10-9d95fed6fbec",
   "metadata": {},
   "source": [
    "The code removes any rows where the **'age'** or **'fare'** values are missing (NaN) to ensure the model only trains on complete data.\n",
    "\n",
    "**model = LinearRegression()**\n",
    "\n",
    "**model.fit(X, Y)**\n",
    "\n",
    "A linear regression model is created and trained using the **'fare'** as the input and **'age'** as the output\n",
    "\n",
    "**fare_values = np.linspace(df['fare'].min(), df['fare'].max(), 100).reshape(-1, 1)**\n",
    "\n",
    "\n",
    "**np** Refers to the NumPy library, a powerful library for numerical computations in Python\n",
    "\n",
    "**linspace** A function in NumPy that generates an array of evenly spaced values between a given start and stop\n",
    "\n",
    "**df['fare'].min()** This finds the minimum value in the 'fare' column of the DataFrame. This becomes the starting point **(start)** of the sequence\n",
    "\n",
    "**df['fare'].max()** This finds the maximum value in the 'fare' column of the DataFrame. This becomes the endpoint **(stop)** of the sequence\n",
    "\n",
    "**100** The number of points to generate between the minimum and maximum fare values\n",
    "\n",
    "Result **np.linspace** creates 100 evenly spaced values between the minimum and maximum fare values"
   ]
  },
  {
   "cell_type": "markdown",
   "id": "76fa782c-7fd6-4601-83bf-06e77a166584",
   "metadata": {},
   "source": [
    "**.reshape()** A method to change the shape of an array without changing its data.\n",
    "\n",
    "**(-1, 1)** The -1 means \"infer this dimension automatically,\" and 1 means \"reshape into a column vector with one value per row.\"\n",
    "\n",
    "**Result:** The array of 100 fare values is reshaped into a column vector with 100 rows and 1 column. This format is required for the linear regression model to make predictions."
   ]
  },
  {
   "cell_type": "markdown",
   "id": "0cc5d2d0-407d-4d84-ad08-97f4784c6aa9",
   "metadata": {},
   "source": [
    "**model.predict(X)**\n",
    "\n",
    "**model** Refers to the linear regression model that has already been trained.\n",
    "\n",
    "**.predict()** A method that uses the trained model to predict the output (Y) based on the input (X).\n",
    "\n",
    "**fare_values** The input to the prediction method. Here, it's the 100 evenly spaced fare values.\n",
    "\n",
    "Result **model.predict(fare_values)** computes the predicted age values corresponding to each of the 100 fare values using the linear regression model."
   ]
  },
  {
   "cell_type": "markdown",
   "id": "30f4344b-35c6-466a-82d8-7427a9252021",
   "metadata": {},
   "source": [
    "**df_man = df[df['who'] == 'man']**\n",
    "\n",
    "**How It Works with Data**\n",
    "\n",
    "**Big Box (df)** Contains all information about people (like their age, fare, etc.)\n",
    "\n",
    "Finding Cars **(df['who'] == 'man')** Looks at each person's information and finds only those who are men\n",
    "\n",
    "New Box **(df[df['who'] == 'man'])** This new collection has only the details of men from the original data"
   ]
  },
  {
   "cell_type": "markdown",
   "id": "402dda5a-44fd-45d1-9a5b-9e064b0b8dfc",
   "metadata": {},
   "source": [
    "**plt.plot()** This draws a line on the graph\n",
    "\n",
    "**fare_values** The line goes along the x-axis from the smallest to the biggest fare amounts\n",
    "\n",
    "**age_pred** The line's height (y-axis) shows what the model predicts the ages should be for those fares\n",
    "\n",
    "**color='red'** The line is colored red\n",
    "\n",
    "**label='Predicted Data'** In the legend, this red line is called 'Predicted Data'\n",
    "\n",
    "**plt.legend()** This adds the little box (legend) that explains what the blue dots and red line mean."
   ]
  },
  {
   "cell_type": "markdown",
   "id": "cae1ddc2-fa64-4358-a7e3-38eb1f4f19a9",
   "metadata": {},
   "source": [
    "**Code for Plotting sibsp vs who:**"
   ]
  },
  {
   "cell_type": "markdown",
   "id": "0c46f8c6-126c-48c5-8c42-d23e2fbf37b3",
   "metadata": {},
   "source": [
    "## Data Preparation and Conversion"
   ]
  },
  {
   "cell_type": "code",
   "execution_count": 121,
   "id": "176c08f3-5925-4783-af2e-2836a6a2e143",
   "metadata": {},
   "outputs": [],
   "source": [
    "from sklearn.preprocessing import LabelEncoder\n",
    "#LabelEncoder changes text labels into numbers \n",
    "#converts categories like \"male\" and \"female\" into numbers, making the data ready for algorithms that work with numbers"
   ]
  },
  {
   "cell_type": "code",
   "execution_count": 122,
   "id": "87b29122-6306-4a31-91fb-e26649bfd302",
   "metadata": {},
   "outputs": [],
   "source": [
    "#removes not a number values from sibsp and who \n",
    "df = df.dropna(subset=['sibsp', 'who'])\n",
    "\n",
    "# Convert 'who' to numerical values for modeling\n",
    "label_encoder = LabelEncoder() #convert categorical labels into numerical values\n",
    "df['who_encoded'] = label_encoder.fit_transform(df['who'])\n",
    "\n",
    "# Prepare data for modeling\n",
    "X = df[['sibsp']] #i/p data  \n",
    "Y = df['who_encoded'] #o/p data "
   ]
  },
  {
   "cell_type": "markdown",
   "id": "7f64888f-b4ca-4825-a0de-c23b6e622052",
   "metadata": {},
   "source": [
    " If you don’t use **subset**, **dropna** will check for missing values in all columns and remove any rows with missing data in any column\n",
    "\n",
    " **label_encoder = LabelEncoder()** This is a class from the **sklearn.preprocessing** module used to convert categorical labels into numerical values\n",
    "\n",
    " **df['who_encoded']** This creates a new column in the DataFrame named **'who_encoded'** where we will store the numeric representation of the **'who'** column\n",
    "\n",
    " **fit_transform** A method of LabelEncoder that learns the unique categories from the **'who'** column and then transforms them into numerical values\n",
    " \n",
    "**df['who']** The original column containing text labels (like \"man\", \"woman\", \"child\")\n",
    "\n",
    "**df[['sibsp']]** This selects the 'sibsp' column from the DataFrame and formats it as a DataFrame. It will be used to predict the target variable\n",
    "\n",
    "**df['who_encoded']** The column with the numeric representations of the **'who'** labels\n"
   ]
  },
  {
   "cell_type": "markdown",
   "id": "e797d10f-819d-405b-8cd3-463e74ff1c0e",
   "metadata": {},
   "source": [
    "## Sibsp VS Who"
   ]
  },
  {
   "cell_type": "code",
   "execution_count": 123,
   "id": "cb2be6ef-fc22-49ff-93dc-40ccf2c08d53",
   "metadata": {},
   "outputs": [
    {
     "data": {
      "image/png": "[encoded data removed]",
      "text/plain": [
       "<Figure size 1000x600 with 1 Axes>"
      ]
     },
     "metadata": {},
     "output_type": "display_data"
    }
   ],
   "source": [
    "#train the model\n",
    "model = LogisticRegression()\n",
    "model.fit(X, Y)\n",
    "\n",
    "# Predict 'who' values using the model\n",
    "sibsp_values = np.linspace(df['sibsp'].min(), df['sibsp'].max(), 100).reshape(-1, 1)\n",
    "who_pred = model.predict(sibsp_values)\n",
    "\n",
    "# Create a DataFrame for predictions for plotting\n",
    "pred_df = pd.DataFrame({\n",
    "    'sibsp': sibsp_values.flatten(),\n",
    "    'who_pred': label_encoder.inverse_transform(who_pred)\n",
    "})\n",
    "\n",
    "# Plot sibsp vs Who\n",
    "plt.figure(figsize=(10, 6))\n",
    "\n",
    "# Scatter plot for actual data\n",
    "plt.scatter(df['sibsp'], df['who'], color='blue', label='Actual Data')\n",
    "\n",
    "# Plot predicted data\n",
    "for label in label_encoder.classes_:\n",
    "    subset = pred_df[pred_df['who_pred'] == label]\n",
    "    plt.plot(subset['sibsp'], subset['who_pred'], label=f'Predicted: {label}')\n",
    "\n",
    "plt.xlabel('sibsp')\n",
    "plt.ylabel('Who')\n",
    "plt.title('sibsp vs Who')\n",
    "plt.legend()\n",
    "plt.show()"
   ]
  },
  {
   "cell_type": "markdown",
   "id": "7043c54c-52c7-40ab-a9b6-afa95da8601d",
   "metadata": {},
   "source": [
    "**who_pred = model.predict(sibsp_values)** This uses the trained model to predict the gender for each value in sibsp_values"
   ]
  },
  {
   "cell_type": "markdown",
   "id": "624480ec-ca74-4cd4-a31d-1201d3dc469b",
   "metadata": {},
   "source": [
    "**'sibsp': sibsp_values.flatten()** The **sibsp_values** are turned back into a simple list (one-dimensional) for the DataFrame\n",
    "\n",
    "**'who_pred': label_encoder.inverse_transform(who_pred)** Converts the numerical predictions back into their original labels (e.g., 'man', 'woman', 'child') using the **label_encoder**\n",
    "\n",
    "**plt.scatter(df['sibsp'], df['who'], color='blue', label='Actual Data')** Creates a scatter plot showing the actual data points from the DataFrame. It uses blue dots to represent the actual values of  **sibsp** versus their gender **who**\n",
    "\n",
    "**for label in label_encoder.classes_** Loops through each category (like 'man', 'woman', 'child') that the model predicted\n",
    "\n",
    "**subset = pred_df[pred_df['who_pred'] == label]** Filters the pred_df DataFrame to get only the rows where the predicted gender matches the current label\n",
    "\n",
    "**plt.plot(subset['sibsp'], subset['who_pred'], label=f'Predicted: {label}')** Draws a line on the plot for each gender category, showing how the model predicts the gender based on the number of sibsp"
   ]
  },
  {
   "cell_type": "markdown",
   "id": "920a5a10-4fe2-4a5d-b8be-1735b2dfe770",
   "metadata": {},
   "source": [
    "## Sibsp VS Who In 3D "
   ]
  },
  {
   "cell_type": "code",
   "execution_count": 124,
   "id": "b84697a8-a0e2-432c-bdc6-cd16bc666d41",
   "metadata": {},
   "outputs": [
    {
     "data": {
      "image/png": "[encoded data removed]",
      "text/plain": [
       "<Figure size 1200x800 with 1 Axes>"
      ]
     },
     "metadata": {},
     "output_type": "display_data"
    }
   ],
   "source": [
    "df = df.dropna(subset=['sibsp', 'who'])\n",
    "\n",
    "# Convert 'who' to numerical values for modeling\n",
    "label_encoder = LabelEncoder()\n",
    "df['who_encoded'] = label_encoder.fit_transform(df['who'])\n",
    "\n",
    "# Prepare data for modeling\n",
    "X = df[['sibsp']]\n",
    "Y = df['who_encoded']\n",
    "\n",
    "# Create and train the model\n",
    "model = LogisticRegression()\n",
    "model.fit(X, Y)\n",
    "\n",
    "# Predict 'who' values using the model\n",
    "sibsp_values = np.linspace(df['sibsp'].min(), df['sibsp'].max(), 100).reshape(-1, 1)\n",
    "who_pred = model.predict(sibsp_values)\n",
    "\n",
    "# Create a DataFrame for predictions for plotting\n",
    "pred_df = pd.DataFrame({\n",
    "    'sibsp': sibsp_values.flatten(),\n",
    "    'who_pred': who_pred\n",
    "})\n",
    "\n",
    "# Convert predictions back to original categorical labels\n",
    "pred_df['who_pred'] = label_encoder.inverse_transform(pred_df['who_pred'])\n",
    "\n",
    "# 3D Plot\n",
    "fig = plt.figure(figsize=(12, 8))\n",
    "ax = fig.add_subplot(111, projection='3d')\n",
    "\n",
    "# Scatter plot for actual data\n",
    "ax.scatter(df['sibsp'], df['who_encoded'], color='blue', label='Actual Data')\n",
    "\n",
    "# Scatter plot for predicted data\n",
    "#Using `who_pred` for z-axis and converting to numerical for consistency\n",
    "ax.scatter(pred_df['sibsp'], pred_df['who_pred'].apply(lambda x: label_encoder.transform([x])[0]), color='red', marker='D', label='Predicted Data')\n",
    "\n",
    "ax.set_xlabel('sibsp')\n",
    "ax.set_ylabel('Who (Encoded)')\n",
    "ax.set_zlabel('Who (Predicted)')\n",
    "ax.set_title('sibsp vs Who')\n",
    "ax.legend()\n",
    "\n",
    "plt.show()"
   ]
  },
  {
   "cell_type": "markdown",
   "id": "ffb2a099-4b87-41d3-bfe6-fa9fe34a8b00",
   "metadata": {},
   "source": [
    "**label_encoder = LabelEncoder()** This initializes a **LabelEncoder**, which is a tool from **sklearn** that converts categorical labels (like 'man', 'woman', 'child') into numerical values (e.g., 0, 1, 2) that the model can use\n",
    "\n",
    "**df['who_encoded'] = label_encoder.fit_transform(df['who'])** This converts the 'who' column into numerical values using the **LabelEncoder**, creating a new column 'who_encoded' in the DataFrame **df**. For example, 'man' might become 0, 'woman' might become 1, and 'child' might become 2\n",
    "\n",
    "**model = LogisticRegression()** This creates a logistic regression model, which is a statistical model used to predict categorical outcomes\n",
    "\n",
    "**model.fit(X, Y)** This trains the logistic regression model using the features **X** and the target variable **Y**. The model learns the relationship between the number of **sibsp** and the encoded **'who'** categories\n",
    "\n",
    "**np.linspace()** generates 100 evenly spaced numbers between the minimum and maximum values of the **'sibsp'** column.\n",
    "\n",
    "**reshape(-1, 1)** converts this list of values into a 2D array with one column and 100 rows, making it suitable for prediction.\n",
    "\n",
    "**who_pred = model.predict(sibsp_values)** This uses the trained model to predict the **'who'** category (man, woman, or child) for each value in **sibsp_values**\n",
    "\n",
    "**pred_df = pd.DataFrame({**\n",
    "    **'sibsp': sibsp_values.flatten(),**\n",
    "    **'who_pred': who_pred**\n",
    "**})**\n",
    "\n",
    "\n",
    "**pred_df = pd.DataFrame({})** This creates a new DataFrame called **pred_df** that holds the predicted values.\n",
    "\n",
    "**'sibsp'** sibsp_values.flatten(): The **'sibsp'** values are stored in the **'sibsp'** column after being flattened back to a 1D array.\n",
    "\n",
    "**'who_pred': who_pred** The predicted **'who'** values are stored in the **'who_pred'** column\n",
    "\n",
    "**pred_df['who_pred'] = label_encoder.inverse_transform(pred_df['who_pred'])** This converts the numerical predictions back into their original categorical labels (like 'man', 'woman', 'child') using the **LabelEncoder**\n"
   ]
  },
  {
   "cell_type": "markdown",
   "id": "8e5846b3-69e1-4948-be86-eb89f7357756",
   "metadata": {},
   "source": [
    "## Creating a 3D Plot"
   ]
  },
  {
   "cell_type": "markdown",
   "id": "18428105-49f0-4adc-bca9-fe9e6fe136c3",
   "metadata": {},
   "source": [
    "**fig = plt.figure(figsize=(12, 8))** This creates a new figure for the plot with a specified size       \n",
    "**ax = fig.add_subplot(111, projection='3d')** This adds a 3D subplot to the figure. The **111** indicates that this is a 1x1 grid and this is the first subplot. The **projection='3d'** makes the plot three-dimensional.\n"
   ]
  },
  {
   "cell_type": "markdown",
   "id": "770e4d10-3613-46dd-b20d-89f8321d4c79",
   "metadata": {},
   "source": [
    "**ax.scatter(df['sibsp'], df['who_encoded'], color='blue', label='Actual Data')** \n",
    "\n",
    "This creates a 3D scatter plot for the actual data, plotting **'sibsp'** on the x-axis, **'who_encoded'** on the y-axis, and using blue dots to represent each data point. \n",
    "\n",
    "The label **'Actual Data'** will be used in the plot legend."
   ]
  },
  {
   "cell_type": "markdown",
   "id": "e6c6a0a2-9b2e-4cb9-8482-9ed17ca9947f",
   "metadata": {},
   "source": [
    "**ax.scatter()** This creates another scatter plot on the same 3D axes, but this time for the predicted data\n",
    "\n",
    "**pred_df['sibsp']** The **'sibsp'** values from the predictions are plotted on the x-axis\n",
    "\n",
    "**pred_df['who_pred'].apply(lambda x: label_encoder.transform([x])[0])** This converts the predicted labels back into their numerical form to match the encoded **'who'** values and plots them on the y-axis\n",
    "\n",
    "**color='red'** The points are colored red\n",
    "\n",
    "**marker='^':** The points are shown as triangles\n",
    "\n",
    "**label='Predicted Data'** The label for these points in the legend will be **'Predicted Data'.**\n"
   ]
  },
  {
   "cell_type": "markdown",
   "id": "fc7f517a-17b9-4f54-b470-131ebc5cd11c",
   "metadata": {},
   "source": [
    "**ax.scatter(pred_df['sibsp'], pred_df['who_pred'].apply(lambda x: label_encoder.transform([x])[0]), color='red', marker='^', label='Predicted Data')**\n",
    "\n",
    "**ax.scatter** It plots individual data points, allow us to see the predicted value compare with actual value \n",
    "\n",
    "**pred_df['sibsp']** It shows the number of **'sibsp'** for each predicted data point\n",
    "\n",
    "**pred_df['who_pred']:** This contains the predicted labels in categorical form\n",
    "\n",
    "**.apply()** This function applies a transformation to each value in the **'who_pred'** column\n",
    "\n",
    "**lambda x: label_encoder.transform([x])[0]** Defines a simple function to transform each categorical label into its numerical code\n",
    "\n",
    "**label_encoder.transform([x])** Converts the label **x** into its corresponding number using the **LabelEncoder**\n",
    "\n",
    "**[0]** Gets the number from the resulting array, because **transform** returns an array even for a single value\n",
    "\n",
    "**marker='^'** To specify the shape of the scatter plot markers\n",
    "Others options are **'o','s','D','+','*','h','p'**"
   ]
  },
  {
   "cell_type": "markdown",
   "id": "4fbf0092-3f0e-4298-b689-6091424b3a8d",
   "metadata": {},
   "source": [
    "## Age vs Fare vs Who: 3D Visualization"
   ]
  },
  {
   "cell_type": "code",
   "execution_count": 125,
   "id": "5f4da35e-b5ed-4adc-aa35-d5f520aa061e",
   "metadata": {},
   "outputs": [],
   "source": [
    "# Drop rows where 'age', 'fare', or 'who' is NaN to ensure clean data\n",
    "df = df.dropna(subset=['age', 'fare', 'who'])\n",
    "\n",
    "# Encode 'who' as numeric\n",
    "df['who_encoded'] = df['who'].map({'man': 1, 'woman': 2, 'child': 3})\n",
    "\n",
    "# Prepare data for modeling\n",
    "X = df[['fare', 'who_encoded']]\n",
    "Y = df['age']\n",
    "\n",
    "# Create and train the model\n",
    "model = LinearRegression()\n",
    "model.fit(X, Y)\n",
    "\n",
    "# Predict age values using the model\n",
    "fare_values = np.linspace(df['fare'].min(), df['fare'].max(), 100) \n",
    "#fare_values = [10, 20]\n",
    "#10, 10\n",
    "#20,20\n",
    "who_values = np.array([1, 2, 3])  # Encoded 'who' categories\n",
    "#who_values = [1, 2]\n",
    "#1, 2\n",
    "#1, 2\n",
    "\n",
    "# Create a meshgrid for fare and who values\n",
    "#Creates two 2D arrays\n",
    "fare_grid, who_grid = np.meshgrid(fare_values, who_values)\n",
    "\n",
    "X_pred = np.c_[fare_grid.ravel(), who_grid.ravel()]\n",
    "#[10, 10] [1, 2] Flattening them:\n",
    "#[20, 20] [1, 2] \n",
    "#who_grid.ravel(): [1, 2, 1, 2]\n",
    "#fare_grid.ravel(): [10, 10, 20, 20]\n",
    "#np.c combines the all 2d data \n",
    "#[[10, 1],\n",
    "#[10, 2],\n",
    "#[20, 1],\n",
    "#[20, 2]]\n",
    "\n",
    "age_pred = model.predict(X_pred).reshape(fare_grid.shape)\n",
    "\n",
    "# Create the interactive 3D plot using Plotly\n",
    "fig = go.Figure()\n",
    "\n",
    "# Add scatter plots for each category\n",
    "for who_category, color in {'man': 'blue', 'woman': 'pink', 'child': 'yellow'}.items():\n",
    "    df_category = df[df['who'] == who_category]\n",
    "    fig.add_trace(go.Scatter3d(\n",
    "        x=df_category['fare'],\n",
    "        y=df_category['who_encoded'],\n",
    "        z=df_category['age'],\n",
    "        mode='markers',\n",
    "        marker=dict(size=5, color=color, opacity=0.8),\n",
    "        name=f'{who_category.capitalize()}'\n",
    "    ))\n",
    "\n",
    "# Add the regression surface\n",
    "fig.add_trace(go.Surface(\n",
    "    x=fare_grid,\n",
    "    y=who_grid,\n",
    "    z=age_pred,\n",
    "    colorscale='Viridis',\n",
    "    opacity=0.5,\n",
    "    name='Predicted Data'\n",
    "))\n",
    "\n",
    "# Update the layout for better visualization\n",
    "fig.update_layout(\n",
    "    scene=dict(\n",
    "        xaxis_title='Fare',\n",
    "        yaxis_title='Who (Encoded)',\n",
    "        zaxis_title='Age',\n",
    "    ),\n",
    "    title='3D Scatter Plot of Age vs Fare vs Who',\n",
    "    width=900,\n",
    "    height=700\n",
    ")\n",
    "\n",
    "# Show the plot\n",
    "fig.show(renderer='browser')  # Opens the interactive plot in your web browser\n"
   ]
  },
  {
   "cell_type": "markdown",
   "id": "9b668b06-8179-497d-9951-41b82599cb8a",
   "metadata": {},
   "source": [
    "**fare_values** Creates 100 evenly spaced values between the minimum and maximum values of **fare** in the DataFrame. This range will be used to evaluate the predictions over a continuous span of **fare** values\n",
    "\n",
    "**who_values** Defines the encoded categories for **who**\n",
    "\n",
    "**np.meshgrid** Creates two 2D arrays **fare_grid** and **who_grid** from the 1D arrays **fare_values** and **who_values** This grid will help evaluate the model's predictions over the full range of these values.\n",
    "\n",
    "**model.predict(X_pred)** Generates predictions based on the **fare** and **who** pairs\n",
    "\n",
    "**.reshape(fare_grid.shape)** Reshapes the predictions to match the shape of the meshgrid. This is necessary to plot the predictions as a surface\n",
    "\n",
    "creating the 3d plot by using **fig = go.Figure()**\n",
    "\n",
    "**Purpose:** This loop is used to go through each category in the dictionary {**'man'**: 'blue', **'woman'**: 'pink', '**child'**: 'yellow'}\n",
    "\n",
    "**who_category** will be **'man'**, **'woman'**, or **'child'**\n",
    "\n",
    " if **who_category** is **'man'**, **df_category** will only include rows where the who column has the value **'man'**\n",
    "  To focus on the data specific to one category (**man**, **woman**, or **child**) for plotting\n",
    "\n",
    "**go.Scatter3d** creates a 3D scatter plot (a plot where data points are spread in three dimensions).\n",
    "\n",
    "**x=df_category['fare'],** It will set the x-axix data for scatter plot\n",
    "\n",
    "Uses the fare values from **df_category**\n",
    "for **x-axis**\n",
    "\n",
    "**y=df_category['who_encoded'],**  Uses the **who_encoded** values from **df_category** (which are numbers representing who categories)\n",
    "for **y-axis**\n",
    "\n",
    "**z=df_category['age'],** Uses the **age** values from **df_category**\n",
    "for **z-axix**\n",
    "\n",
    "\n",
    "**mode='markers'** means each data point is shown as a dot\n",
    "\n",
    "**marker=dict(size=5, color=color, opacity=0.8)**\n",
    "\n",
    "**size=5** makes the markers a specific size\n",
    "\n",
    "**color=color** sets the color of the markers (from the color variable in the loop)\n",
    "\n",
    "**opacity=0.8** makes the markers slightly transparent\n",
    "\n",
    "**name=f'{who_category.capitalize()}**\n",
    "\n",
    "**who_category.capitalize()** changes the first letter of the **who_category** to uppercase (e.g., **'man'** becomes **'Man'**)"
   ]
  },
  {
   "cell_type": "code",
   "execution_count": null,
   "id": "7a9b19f0-8b4a-4bad-b2e5-c2b0b862f00b",
   "metadata": {},
   "outputs": [],
   "source": []
  }
 ],
 "metadata": {
  "kernelspec": {
   "display_name": "Python 3 (ipykernel)",
   "language": "python",
   "name": "python3"
  },
  "language_info": {
   "codemirror_mode": {
    "name": "ipython",
    "version": 3
   },
   "file_extension": ".py",
   "mimetype": "text/x-python",
   "name": "python",
   "nbconvert_exporter": "python",
   "pygments_lexer": "ipython3",
   "version": "3.12.4"
  }
 },
 "nbformat": 4,
 "nbformat_minor": 5
}
