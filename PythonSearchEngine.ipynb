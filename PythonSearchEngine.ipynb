{
 "cells": [
  {
   "cell_type": "code",
   "execution_count": 1,
   "id": "9e6536a9-84f9-47f7-a8b3-8cf90cc1563a",
   "metadata": {},
   "outputs": [],
   "source": [
    "import webbrowser"
   ]
  },
  {
   "cell_type": "code",
   "execution_count": 6,
   "id": "7b8e3f6d-61ff-4ef3-aeb0-71776c43e169",
   "metadata": {},
   "outputs": [
    {
     "name": "stdin",
     "output_type": "stream",
     "text": [
      "Search Website:  DarkWeb\n"
     ]
    }
   ],
   "source": [
    "website = input(\"Search Website: \")\n",
    "if website == \"google\":\n",
    "    name = input(\"Search: \")\n",
    "    webbrowser.open(\"https://www.google.ca/search?q=\"+ name)\n",
    "elif website == \"youtube\":\n",
    "    name = input(\"Search: \")\n",
    "    webbrowser.open(\"https://www.youtube.com/results?search_query\" + name)\n",
    "elif website == \"musescore\":\n",
    "    name = input(\"Search: \")\n",
    "    webbrowser.open(\"https://musescore.com/sheetmusic?text=\" + name)\n",
    "elif website == \"DarkWeb\":\n",
    "    webbrowser.open(\"https://www.youtube.com/shorts/P9gN1JFTgss\")\n",
    "    "
   ]
  },
  {
   "cell_type": "code",
   "execution_count": null,
   "id": "946a2029-c1ec-4e90-ae77-0318aa8f7079",
   "metadata": {},
   "outputs": [],
   "source": []
  }
 ],
 "metadata": {
  "kernelspec": {
   "display_name": "Python 3 (ipykernel)",
   "language": "python",
   "name": "python3"
  },
  "language_info": {
   "codemirror_mode": {
    "name": "ipython",
    "version": 3
   },
   "file_extension": ".py",
   "mimetype": "text/x-python",
   "name": "python",
   "nbconvert_exporter": "python",
   "pygments_lexer": "ipython3",
   "version": "3.12.4"
  }
 },
 "nbformat": 4,
 "nbformat_minor": 5
}
